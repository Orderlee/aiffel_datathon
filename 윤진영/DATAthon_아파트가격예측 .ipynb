{
 "cells": [
  {
   "cell_type": "code",
   "execution_count": 1,
   "id": "cf7f3a66",
   "metadata": {},
   "outputs": [],
   "source": [
    "import pandas as pd\n",
    "import numpy as np\n",
    "import seaborn as sns\n",
    "import matplotlib.pyplot as plt\n",
    "from datetime import datetime"
   ]
  },
  {
   "cell_type": "code",
   "execution_count": 2,
   "id": "c8602b16",
   "metadata": {},
   "outputs": [],
   "source": [
    "park = pd.read_csv('park.csv')\n",
    "daycare = pd.read_csv('day_care_center.csv')\n",
    "train_df = pd.read_csv('train.csv')\n",
    "test_df = pd.read_csv('test.csv')"
   ]
  },
  {
   "cell_type": "code",
   "execution_count": 3,
   "id": "2eb37798",
   "metadata": {},
   "outputs": [
    {
     "data": {
      "text/plain": [
       "((1216553, 13), (5463, 12), (7551, 11), (1359, 13))"
      ]
     },
     "execution_count": 3,
     "metadata": {},
     "output_type": "execute_result"
    }
   ],
   "source": [
    "train_df.shape, test_df.shape, daycare.shape, park.shape"
   ]
  },
  {
   "cell_type": "markdown",
   "id": "0c467398",
   "metadata": {},
   "source": [
    "# 1. 데이터 병합하기"
   ]
  },
  {
   "cell_type": "markdown",
   "id": "0315a1f0",
   "metadata": {},
   "source": [
    "## 1) train에 gu 정보 추가하기 \n",
    "- park의 구, 동 정보 및 서울특별시, 부산광역시 공공데이터를 추가로 이용해서 train에 구 정보 추가"
   ]
  },
  {
   "cell_type": "code",
   "execution_count": 4,
   "id": "04400b1d",
   "metadata": {
    "scrolled": false
   },
   "outputs": [
    {
     "data": {
      "text/html": [
       "<div>\n",
       "<style scoped>\n",
       "    .dataframe tbody tr th:only-of-type {\n",
       "        vertical-align: middle;\n",
       "    }\n",
       "\n",
       "    .dataframe tbody tr th {\n",
       "        vertical-align: top;\n",
       "    }\n",
       "\n",
       "    .dataframe thead th {\n",
       "        text-align: right;\n",
       "    }\n",
       "</style>\n",
       "<table border=\"1\" class=\"dataframe\">\n",
       "  <thead>\n",
       "    <tr style=\"text-align: right;\">\n",
       "      <th></th>\n",
       "      <th>transaction_id</th>\n",
       "      <th>apartment_id</th>\n",
       "      <th>city</th>\n",
       "      <th>dong</th>\n",
       "      <th>jibun</th>\n",
       "      <th>apt</th>\n",
       "      <th>addr_kr</th>\n",
       "      <th>exclusive_use_area</th>\n",
       "      <th>year_of_completion</th>\n",
       "      <th>transaction_year_month</th>\n",
       "      <th>transaction_date</th>\n",
       "      <th>floor</th>\n",
       "      <th>transaction_real_price</th>\n",
       "      <th>gu</th>\n",
       "    </tr>\n",
       "  </thead>\n",
       "  <tbody>\n",
       "    <tr>\n",
       "      <th>0</th>\n",
       "      <td>0</td>\n",
       "      <td>7622</td>\n",
       "      <td>서울특별시</td>\n",
       "      <td>신교동</td>\n",
       "      <td>6-13</td>\n",
       "      <td>신현(101동)</td>\n",
       "      <td>신교동 6-13 신현(101동)</td>\n",
       "      <td>84.82</td>\n",
       "      <td>2002</td>\n",
       "      <td>200801</td>\n",
       "      <td>21~31</td>\n",
       "      <td>2</td>\n",
       "      <td>37500</td>\n",
       "      <td>NaN</td>\n",
       "    </tr>\n",
       "    <tr>\n",
       "      <th>1</th>\n",
       "      <td>1</td>\n",
       "      <td>5399</td>\n",
       "      <td>서울특별시</td>\n",
       "      <td>필운동</td>\n",
       "      <td>142</td>\n",
       "      <td>사직파크맨션</td>\n",
       "      <td>필운동 142 사직파크맨션</td>\n",
       "      <td>99.17</td>\n",
       "      <td>1973</td>\n",
       "      <td>200801</td>\n",
       "      <td>1~10</td>\n",
       "      <td>6</td>\n",
       "      <td>20000</td>\n",
       "      <td>NaN</td>\n",
       "    </tr>\n",
       "    <tr>\n",
       "      <th>2</th>\n",
       "      <td>2</td>\n",
       "      <td>3578</td>\n",
       "      <td>서울특별시</td>\n",
       "      <td>필운동</td>\n",
       "      <td>174-1</td>\n",
       "      <td>두레엘리시안</td>\n",
       "      <td>필운동 174-1 두레엘리시안</td>\n",
       "      <td>84.74</td>\n",
       "      <td>2007</td>\n",
       "      <td>200801</td>\n",
       "      <td>1~10</td>\n",
       "      <td>6</td>\n",
       "      <td>38500</td>\n",
       "      <td>NaN</td>\n",
       "    </tr>\n",
       "    <tr>\n",
       "      <th>3</th>\n",
       "      <td>3</td>\n",
       "      <td>10957</td>\n",
       "      <td>서울특별시</td>\n",
       "      <td>내수동</td>\n",
       "      <td>95</td>\n",
       "      <td>파크팰리스</td>\n",
       "      <td>내수동 95 파크팰리스</td>\n",
       "      <td>146.39</td>\n",
       "      <td>2003</td>\n",
       "      <td>200801</td>\n",
       "      <td>11~20</td>\n",
       "      <td>15</td>\n",
       "      <td>118000</td>\n",
       "      <td>NaN</td>\n",
       "    </tr>\n",
       "    <tr>\n",
       "      <th>4</th>\n",
       "      <td>4</td>\n",
       "      <td>10639</td>\n",
       "      <td>서울특별시</td>\n",
       "      <td>내수동</td>\n",
       "      <td>110-15</td>\n",
       "      <td>킹스매너</td>\n",
       "      <td>내수동 110-15 킹스매너</td>\n",
       "      <td>194.43</td>\n",
       "      <td>2004</td>\n",
       "      <td>200801</td>\n",
       "      <td>21~31</td>\n",
       "      <td>3</td>\n",
       "      <td>120000</td>\n",
       "      <td>NaN</td>\n",
       "    </tr>\n",
       "  </tbody>\n",
       "</table>\n",
       "</div>"
      ],
      "text/plain": [
       "   transaction_id  apartment_id   city dong   jibun       apt  \\\n",
       "0               0          7622  서울특별시  신교동    6-13  신현(101동)   \n",
       "1               1          5399  서울특별시  필운동     142    사직파크맨션   \n",
       "2               2          3578  서울특별시  필운동   174-1    두레엘리시안   \n",
       "3               3         10957  서울특별시  내수동      95     파크팰리스   \n",
       "4               4         10639  서울특별시  내수동  110-15      킹스매너   \n",
       "\n",
       "             addr_kr  exclusive_use_area  year_of_completion  \\\n",
       "0  신교동 6-13 신현(101동)               84.82                2002   \n",
       "1     필운동 142 사직파크맨션               99.17                1973   \n",
       "2   필운동 174-1 두레엘리시안               84.74                2007   \n",
       "3       내수동 95 파크팰리스              146.39                2003   \n",
       "4    내수동 110-15 킹스매너              194.43                2004   \n",
       "\n",
       "   transaction_year_month transaction_date  floor  transaction_real_price   gu  \n",
       "0                  200801            21~31      2                   37500  NaN  \n",
       "1                  200801             1~10      6                   20000  NaN  \n",
       "2                  200801             1~10      6                   38500  NaN  \n",
       "3                  200801            11~20     15                  118000  NaN  \n",
       "4                  200801            21~31      3                  120000  NaN  "
      ]
     },
     "execution_count": 4,
     "metadata": {},
     "output_type": "execute_result"
    }
   ],
   "source": [
    "#park의 구 정보를 동을 기준으로 train에 병합\n",
    "train_df = pd.merge(train_df, park[['gu', 'dong']], on='dong', how='left')\n",
    "train_df.head()"
   ]
  },
  {
   "cell_type": "code",
   "execution_count": 5,
   "id": "da9a14a7",
   "metadata": {},
   "outputs": [
    {
     "data": {
      "text/plain": [
       "transaction_id                 0\n",
       "apartment_id                   0\n",
       "city                           0\n",
       "dong                           0\n",
       "jibun                          0\n",
       "apt                            0\n",
       "addr_kr                        0\n",
       "exclusive_use_area             0\n",
       "year_of_completion             0\n",
       "transaction_year_month         0\n",
       "transaction_date               0\n",
       "floor                          0\n",
       "transaction_real_price         0\n",
       "gu                        277309\n",
       "dtype: int64"
      ]
     },
     "execution_count": 5,
     "metadata": {},
     "output_type": "execute_result"
    }
   ],
   "source": [
    "#비어있는 값 확인, 공공데이터로 나머지를 채워주도록 한다\n",
    "train_df.isna().sum()"
   ]
  },
  {
   "cell_type": "code",
   "execution_count": 6,
   "id": "7b421077",
   "metadata": {},
   "outputs": [
    {
     "data": {
      "text/plain": [
       "201711"
      ]
     },
     "execution_count": 6,
     "metadata": {},
     "output_type": "execute_result"
    }
   ],
   "source": [
    "#가장 최근 데이터를 확인해보니 2017년이다. 2018년 기준으로 행정구역을 가져오도록 한다.\n",
    "train_df['transaction_year_month'].max()"
   ]
  },
  {
   "cell_type": "markdown",
   "id": "7face3f6",
   "metadata": {},
   "source": [
    "* 부산시 행정구역 : https://data.busan.go.kr/dataSet/detail.nm?publicdatapk=OA_CD00003&contentId=10 (https://kosis.kr/statHtml/statHtml.do?orgId=202&tblId=DT_206&lang_mode=ko&vw_cd=MT_OTITLE&list_id=202_20203_B&conn_path=I4)\n",
    "* 서울시 행정구역 : https://data.seoul.go.kr/dataList/10043/S/2/datasetView.do"
   ]
  },
  {
   "cell_type": "code",
   "execution_count": 7,
   "id": "60780d09",
   "metadata": {
    "scrolled": true
   },
   "outputs": [
    {
     "data": {
      "text/html": [
       "<div>\n",
       "<style scoped>\n",
       "    .dataframe tbody tr th:only-of-type {\n",
       "        vertical-align: middle;\n",
       "    }\n",
       "\n",
       "    .dataframe tbody tr th {\n",
       "        vertical-align: top;\n",
       "    }\n",
       "\n",
       "    .dataframe thead th {\n",
       "        text-align: right;\n",
       "    }\n",
       "</style>\n",
       "<table border=\"1\" class=\"dataframe\">\n",
       "  <thead>\n",
       "    <tr style=\"text-align: right;\">\n",
       "      <th></th>\n",
       "      <th>gu</th>\n",
       "      <th>dong</th>\n",
       "      <th>city</th>\n",
       "    </tr>\n",
       "  </thead>\n",
       "  <tbody>\n",
       "    <tr>\n",
       "      <th>4</th>\n",
       "      <td>중구</td>\n",
       "      <td>중앙동</td>\n",
       "      <td>부산광역시</td>\n",
       "    </tr>\n",
       "    <tr>\n",
       "      <th>5</th>\n",
       "      <td>중구</td>\n",
       "      <td>동광동</td>\n",
       "      <td>부산광역시</td>\n",
       "    </tr>\n",
       "    <tr>\n",
       "      <th>6</th>\n",
       "      <td>중구</td>\n",
       "      <td>대청동</td>\n",
       "      <td>부산광역시</td>\n",
       "    </tr>\n",
       "    <tr>\n",
       "      <th>7</th>\n",
       "      <td>중구</td>\n",
       "      <td>보수동</td>\n",
       "      <td>부산광역시</td>\n",
       "    </tr>\n",
       "    <tr>\n",
       "      <th>8</th>\n",
       "      <td>중구</td>\n",
       "      <td>부평동</td>\n",
       "      <td>부산광역시</td>\n",
       "    </tr>\n",
       "    <tr>\n",
       "      <th>...</th>\n",
       "      <td>...</td>\n",
       "      <td>...</td>\n",
       "      <td>...</td>\n",
       "    </tr>\n",
       "    <tr>\n",
       "      <th>221</th>\n",
       "      <td>기장군</td>\n",
       "      <td>기장읍</td>\n",
       "      <td>부산광역시</td>\n",
       "    </tr>\n",
       "    <tr>\n",
       "      <th>222</th>\n",
       "      <td>기장군</td>\n",
       "      <td>장안읍</td>\n",
       "      <td>부산광역시</td>\n",
       "    </tr>\n",
       "    <tr>\n",
       "      <th>223</th>\n",
       "      <td>기장군</td>\n",
       "      <td>정관읍</td>\n",
       "      <td>부산광역시</td>\n",
       "    </tr>\n",
       "    <tr>\n",
       "      <th>224</th>\n",
       "      <td>기장군</td>\n",
       "      <td>일광읍</td>\n",
       "      <td>부산광역시</td>\n",
       "    </tr>\n",
       "    <tr>\n",
       "      <th>225</th>\n",
       "      <td>기장군</td>\n",
       "      <td>철마면</td>\n",
       "      <td>부산광역시</td>\n",
       "    </tr>\n",
       "  </tbody>\n",
       "</table>\n",
       "<p>207 rows × 3 columns</p>\n",
       "</div>"
      ],
      "text/plain": [
       "      gu dong   city\n",
       "4     중구  중앙동  부산광역시\n",
       "5     중구  동광동  부산광역시\n",
       "6     중구  대청동  부산광역시\n",
       "7     중구  보수동  부산광역시\n",
       "8     중구  부평동  부산광역시\n",
       "..   ...  ...    ...\n",
       "221  기장군  기장읍  부산광역시\n",
       "222  기장군  장안읍  부산광역시\n",
       "223  기장군  정관읍  부산광역시\n",
       "224  기장군  일광읍  부산광역시\n",
       "225  기장군  철마면  부산광역시\n",
       "\n",
       "[207 rows x 3 columns]"
      ]
     },
     "execution_count": 7,
     "metadata": {},
     "output_type": "execute_result"
    }
   ],
   "source": [
    "#부산시 행정구역 추가하기\n",
    "busan = pd.read_csv('부산시행정구역(동별).csv', encoding='euc-kr')\n",
    "busan.rename(columns={'구·군별(1)':'gu', '구·군별(2)':'dong'}, inplace=True)\n",
    "busan.drop([0,1,2], inplace=True)\n",
    "busan = busan[busan['dong']!= '소계']\n",
    "busan = busan[['gu','dong']]\n",
    "busan['city'] = '부산광역시'\n",
    "busan"
   ]
  },
  {
   "cell_type": "code",
   "execution_count": 15,
   "id": "6caff9c8",
   "metadata": {
    "scrolled": true
   },
   "outputs": [
    {
     "data": {
      "text/html": [
       "<div>\n",
       "<style scoped>\n",
       "    .dataframe tbody tr th:only-of-type {\n",
       "        vertical-align: middle;\n",
       "    }\n",
       "\n",
       "    .dataframe tbody tr th {\n",
       "        vertical-align: top;\n",
       "    }\n",
       "\n",
       "    .dataframe thead th {\n",
       "        text-align: right;\n",
       "    }\n",
       "</style>\n",
       "<table border=\"1\" class=\"dataframe\">\n",
       "  <thead>\n",
       "    <tr style=\"text-align: right;\">\n",
       "      <th></th>\n",
       "      <th>city</th>\n",
       "      <th>gu</th>\n",
       "      <th>dong</th>\n",
       "    </tr>\n",
       "  </thead>\n",
       "  <tbody>\n",
       "    <tr>\n",
       "      <th>3</th>\n",
       "      <td>서울특별시</td>\n",
       "      <td>종로구</td>\n",
       "      <td>사직동</td>\n",
       "    </tr>\n",
       "    <tr>\n",
       "      <th>4</th>\n",
       "      <td>서울특별시</td>\n",
       "      <td>종로구</td>\n",
       "      <td>삼청동</td>\n",
       "    </tr>\n",
       "    <tr>\n",
       "      <th>5</th>\n",
       "      <td>서울특별시</td>\n",
       "      <td>종로구</td>\n",
       "      <td>부암동</td>\n",
       "    </tr>\n",
       "    <tr>\n",
       "      <th>6</th>\n",
       "      <td>서울특별시</td>\n",
       "      <td>종로구</td>\n",
       "      <td>평창동</td>\n",
       "    </tr>\n",
       "    <tr>\n",
       "      <th>7</th>\n",
       "      <td>서울특별시</td>\n",
       "      <td>종로구</td>\n",
       "      <td>무악동</td>\n",
       "    </tr>\n",
       "    <tr>\n",
       "      <th>...</th>\n",
       "      <td>...</td>\n",
       "      <td>...</td>\n",
       "      <td>...</td>\n",
       "    </tr>\n",
       "    <tr>\n",
       "      <th>446</th>\n",
       "      <td>서울특별시</td>\n",
       "      <td>강동구</td>\n",
       "      <td>성내3동</td>\n",
       "    </tr>\n",
       "    <tr>\n",
       "      <th>447</th>\n",
       "      <td>서울특별시</td>\n",
       "      <td>강동구</td>\n",
       "      <td>둔촌1동</td>\n",
       "    </tr>\n",
       "    <tr>\n",
       "      <th>448</th>\n",
       "      <td>서울특별시</td>\n",
       "      <td>강동구</td>\n",
       "      <td>둔촌2동</td>\n",
       "    </tr>\n",
       "    <tr>\n",
       "      <th>449</th>\n",
       "      <td>서울특별시</td>\n",
       "      <td>강동구</td>\n",
       "      <td>길동</td>\n",
       "    </tr>\n",
       "    <tr>\n",
       "      <th>450</th>\n",
       "      <td>서울특별시</td>\n",
       "      <td>강동구</td>\n",
       "      <td>강일동</td>\n",
       "    </tr>\n",
       "  </tbody>\n",
       "</table>\n",
       "<p>424 rows × 3 columns</p>\n",
       "</div>"
      ],
      "text/plain": [
       "      city   gu  dong\n",
       "3    서울특별시  종로구   사직동\n",
       "4    서울특별시  종로구   삼청동\n",
       "5    서울특별시  종로구   부암동\n",
       "6    서울특별시  종로구   평창동\n",
       "7    서울특별시  종로구   무악동\n",
       "..     ...  ...   ...\n",
       "446  서울특별시  강동구  성내3동\n",
       "447  서울특별시  강동구  둔촌1동\n",
       "448  서울특별시  강동구  둔촌2동\n",
       "449  서울특별시  강동구    길동\n",
       "450  서울특별시  강동구   강일동\n",
       "\n",
       "[424 rows x 3 columns]"
      ]
     },
     "execution_count": 15,
     "metadata": {},
     "output_type": "execute_result"
    }
   ],
   "source": [
    "#서울시 행정구역 추가하기\n",
    "seoul = pd.read_csv('서울시행정구역(동별).csv')\n",
    "seoul.rename(columns={'동별(2)':'gu', '동별(3)':'dong'}, inplace=True)\n",
    "seoul.drop([0,1], inplace=True)\n",
    "seoul = seoul[seoul['dong']!= '소계']\n",
    "seoul['city'] = '서울특별시'\n",
    "seoul = seoul[['city','gu','dong']]\n",
    "seoul"
   ]
  },
  {
   "cell_type": "code",
   "execution_count": 20,
   "id": "5cc5849d",
   "metadata": {},
   "outputs": [],
   "source": [
    "#gu가 공란인 데이터만 처리해줄거니까 따로 빼준다\n",
    "missing_gu = train_df[train_df['gu'].isna()]"
   ]
  },
  {
   "cell_type": "code",
   "execution_count": 21,
   "id": "b781efdc",
   "metadata": {
    "scrolled": true
   },
   "outputs": [],
   "source": [
    "#seoul 데이터셋의 해당 동, 구 정보를 가져와서 train의 gu열 채우기\n",
    "for index, row in missing_gu.iterrows():\n",
    "    if row['city'] =='서울특별시':\n",
    "        gu_value = seoul[(seoul['dong'] == row['dong'])]['gu'].values\n",
    "        if len(gu_value) >0:\n",
    "            train_df.at[index, 'gu'] = gu_value[0]"
   ]
  },
  {
   "cell_type": "code",
   "execution_count": 27,
   "id": "e5e9bc55",
   "metadata": {},
   "outputs": [],
   "source": [
    "#busan 데이터셋의 해당 동, 구 정보를 가져와서 train의 gu열 채우기           \n",
    "for index, row in missing_gu.iterrows():\n",
    "    if row['city'] == '부산광역시':\n",
    "        gu_value = busan[(busan['dong'] == row['dong'])]['gu'].values\n",
    "        if len(gu_value) > 0:\n",
    "            train_df.at[index, 'gu'] = gu_value[0]"
   ]
  },
  {
   "cell_type": "code",
   "execution_count": 28,
   "id": "9bab6b7b",
   "metadata": {
    "scrolled": true
   },
   "outputs": [
    {
     "data": {
      "text/plain": [
       "transaction_id                0\n",
       "apartment_id                  0\n",
       "city                          0\n",
       "dong                          0\n",
       "jibun                         0\n",
       "apt                           0\n",
       "addr_kr                       0\n",
       "exclusive_use_area            0\n",
       "year_of_completion            0\n",
       "transaction_year_month        0\n",
       "transaction_date              0\n",
       "floor                         0\n",
       "transaction_real_price        0\n",
       "gu                        51825\n",
       "dtype: int64"
      ]
     },
     "execution_count": 28,
     "metadata": {},
     "output_type": "execute_result"
    }
   ],
   "source": [
    "train_df.isna().sum()"
   ]
  },
  {
   "cell_type": "markdown",
   "id": "80302082",
   "metadata": {},
   "source": [
    "- 동별 주민등록인구통계는 행정동 경계를 기준으로 작성하고 있다\n",
    "- 예) 누락된 <성북구 상월곡동> 등은 법정동으로, 행정동으로는 월곡2동에 포함되어 있다\n",
    "- 모든 동단위 통계는 행정구역(행정동) 단위로 작성하고 있으며, 법정동 단위 자료는 따로 생산되지 않아 자료를 구하는 데 한계가 있다"
   ]
  },
  {
   "cell_type": "code",
   "execution_count": 23,
   "id": "bb773370",
   "metadata": {
    "scrolled": true
   },
   "outputs": [
    {
     "data": {
      "text/html": [
       "<div>\n",
       "<style scoped>\n",
       "    .dataframe tbody tr th:only-of-type {\n",
       "        vertical-align: middle;\n",
       "    }\n",
       "\n",
       "    .dataframe tbody tr th {\n",
       "        vertical-align: top;\n",
       "    }\n",
       "\n",
       "    .dataframe thead th {\n",
       "        text-align: right;\n",
       "    }\n",
       "</style>\n",
       "<table border=\"1\" class=\"dataframe\">\n",
       "  <thead>\n",
       "    <tr style=\"text-align: right;\">\n",
       "      <th></th>\n",
       "      <th>city</th>\n",
       "      <th>gu</th>\n",
       "      <th>dong</th>\n",
       "    </tr>\n",
       "  </thead>\n",
       "  <tbody>\n",
       "    <tr>\n",
       "      <th>2</th>\n",
       "      <td>서울특별시</td>\n",
       "      <td>종로구</td>\n",
       "      <td>청운동</td>\n",
       "    </tr>\n",
       "    <tr>\n",
       "      <th>3</th>\n",
       "      <td>서울특별시</td>\n",
       "      <td>종로구</td>\n",
       "      <td>신교동</td>\n",
       "    </tr>\n",
       "    <tr>\n",
       "      <th>4</th>\n",
       "      <td>서울특별시</td>\n",
       "      <td>종로구</td>\n",
       "      <td>궁정동</td>\n",
       "    </tr>\n",
       "    <tr>\n",
       "      <th>5</th>\n",
       "      <td>서울특별시</td>\n",
       "      <td>종로구</td>\n",
       "      <td>효자동</td>\n",
       "    </tr>\n",
       "    <tr>\n",
       "      <th>6</th>\n",
       "      <td>서울특별시</td>\n",
       "      <td>종로구</td>\n",
       "      <td>창성동</td>\n",
       "    </tr>\n",
       "    <tr>\n",
       "      <th>...</th>\n",
       "      <td>...</td>\n",
       "      <td>...</td>\n",
       "      <td>...</td>\n",
       "    </tr>\n",
       "    <tr>\n",
       "      <th>558</th>\n",
       "      <td>부산광역시</td>\n",
       "      <td>NaN</td>\n",
       "      <td>구칠리</td>\n",
       "    </tr>\n",
       "    <tr>\n",
       "      <th>559</th>\n",
       "      <td>부산광역시</td>\n",
       "      <td>NaN</td>\n",
       "      <td>이곡리</td>\n",
       "    </tr>\n",
       "    <tr>\n",
       "      <th>560</th>\n",
       "      <td>부산광역시</td>\n",
       "      <td>NaN</td>\n",
       "      <td>고촌리</td>\n",
       "    </tr>\n",
       "    <tr>\n",
       "      <th>561</th>\n",
       "      <td>부산광역시</td>\n",
       "      <td>NaN</td>\n",
       "      <td>안평리</td>\n",
       "    </tr>\n",
       "    <tr>\n",
       "      <th>562</th>\n",
       "      <td>부산광역시</td>\n",
       "      <td>NaN</td>\n",
       "      <td>임기리</td>\n",
       "    </tr>\n",
       "  </tbody>\n",
       "</table>\n",
       "<p>561 rows × 3 columns</p>\n",
       "</div>"
      ],
      "text/plain": [
       "      city   gu dong\n",
       "2    서울특별시  종로구  청운동\n",
       "3    서울특별시  종로구  신교동\n",
       "4    서울특별시  종로구  궁정동\n",
       "5    서울특별시  종로구  효자동\n",
       "6    서울특별시  종로구  창성동\n",
       "..     ...  ...  ...\n",
       "558  부산광역시  NaN  구칠리\n",
       "559  부산광역시  NaN  이곡리\n",
       "560  부산광역시  NaN  고촌리\n",
       "561  부산광역시  NaN  안평리\n",
       "562  부산광역시  NaN  임기리\n",
       "\n",
       "[561 rows x 3 columns]"
      ]
     },
     "execution_count": 23,
     "metadata": {},
     "output_type": "execute_result"
    }
   ],
   "source": [
    "gu = pd.read_csv('전국행정동리스트.csv')\n",
    "gu.rename(columns={'전국행정동리스트':'city', 'Unnamed: 2':'gu', 'Unnamed: 3':'dong'}, inplace=True)\n",
    "gu.drop([0,1], inplace=True)\n",
    "gu = gu[['city','gu','dong']]\n",
    "gu[(gu['city']=='서울특별시') | (gu['city']=='부산광역시')]"
   ]
  },
  {
   "cell_type": "code",
   "execution_count": 29,
   "id": "f9256a02",
   "metadata": {},
   "outputs": [],
   "source": [
    "missing_gu = train_df[train_df['gu'].isna()]\n",
    "                      \n",
    "#seoul 데이터셋의 해당 동, 구 정보를 가져와서 train의 gu열 채우기\n",
    "for index, row in missing_gu.iterrows():\n",
    "    if row['city'] =='서울특별시':\n",
    "        gu_value = gu[(gu['dong'] == row['dong'])]['gu'].values\n",
    "        if len(gu_value) >0:\n",
    "            train_df.at[index, 'gu'] = gu_value[0]\n",
    "            \n",
    "#busan 데이터셋의 해당 동, 구 정보를 가져와서 train의 gu열 채우기           \n",
    "for index, row in missing_gu.iterrows():\n",
    "    if row['city'] == '부산광역시':\n",
    "        gu_value = gu[(gu['dong'] == row['dong'])]['gu'].values\n",
    "        if len(gu_value) > 0:\n",
    "            train_df.at[index, 'gu'] = gu_value[0]"
   ]
  },
  {
   "cell_type": "code",
   "execution_count": 30,
   "id": "10e039fc",
   "metadata": {},
   "outputs": [
    {
     "data": {
      "text/plain": [
       "transaction_id                0\n",
       "apartment_id                  0\n",
       "city                          0\n",
       "dong                          0\n",
       "jibun                         0\n",
       "apt                           0\n",
       "addr_kr                       0\n",
       "exclusive_use_area            0\n",
       "year_of_completion            0\n",
       "transaction_year_month        0\n",
       "transaction_date              0\n",
       "floor                         0\n",
       "transaction_real_price        0\n",
       "gu                        51825\n",
       "dtype: int64"
      ]
     },
     "execution_count": 30,
     "metadata": {},
     "output_type": "execute_result"
    }
   ],
   "source": [
    "train_df.isna().sum()"
   ]
  },
  {
   "cell_type": "code",
   "execution_count": 34,
   "id": "f9ee718e",
   "metadata": {},
   "outputs": [
    {
     "data": {
      "text/plain": [
       "transaction_id            0\n",
       "apartment_id              0\n",
       "city                      0\n",
       "dong                      0\n",
       "jibun                     0\n",
       "apt                       0\n",
       "addr_kr                   0\n",
       "exclusive_use_area        0\n",
       "year_of_completion        0\n",
       "transaction_year_month    0\n",
       "transaction_date          0\n",
       "floor                     0\n",
       "transaction_real_price    0\n",
       "gu                        0\n",
       "dtype: int64"
      ]
     },
     "execution_count": 34,
     "metadata": {},
     "output_type": "execute_result"
    }
   ],
   "source": [
    "train_df.dropna(inplace=True)\n",
    "train_df.isna().sum()"
   ]
  },
  {
   "cell_type": "markdown",
   "id": "b61cff49",
   "metadata": {},
   "source": [
    "## 2) daycare, park 데이터와 병합하기"
   ]
  },
  {
   "cell_type": "code",
   "execution_count": null,
   "id": "5af3583a",
   "metadata": {},
   "outputs": [],
   "source": [
    "pip install geopy"
   ]
  },
  {
   "cell_type": "code",
   "execution_count": null,
   "id": "585b90a6",
   "metadata": {},
   "outputs": [],
   "source": [
    "# # 도로명주소 위도 경도 값으로 바꿔주기\n",
    "# from geopy.geocoders import Nominatim\n",
    "# geo_local = Nominatim(user_agent='South Korea')\n",
    "\n",
    "# # 위도, 경도 반환하는 함수\n",
    "# def get_latitude_longitude(address):\n",
    "#     location = geo_locator.geocode(address)\n",
    "#     if location:\n",
    "#          return location.latitude, location.longitude\n",
    "#     else:\n",
    "#          return None, None"
   ]
  },
  {
   "cell_type": "code",
   "execution_count": null,
   "id": "7e7c3077",
   "metadata": {},
   "outputs": [],
   "source": [
    "# train_df['latitude'], train_df['longitude'] = zip(*train_df['addr_kr'].apply(get_latitude_longitude))\n",
    "\n",
    "# print(df)"
   ]
  },
  {
   "cell_type": "code",
   "execution_count": null,
   "id": "14cc9398",
   "metadata": {},
   "outputs": [],
   "source": []
  }
 ],
 "metadata": {
  "kernelspec": {
   "display_name": "Python 3 (ipykernel)",
   "language": "python",
   "name": "python3"
  },
  "language_info": {
   "codemirror_mode": {
    "name": "ipython",
    "version": 3
   },
   "file_extension": ".py",
   "mimetype": "text/x-python",
   "name": "python",
   "nbconvert_exporter": "python",
   "pygments_lexer": "ipython3",
   "version": "3.9.7"
  }
 },
 "nbformat": 4,
 "nbformat_minor": 5
}
